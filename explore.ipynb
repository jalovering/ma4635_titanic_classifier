{
 "cells": [
  {
   "cell_type": "code",
   "execution_count": 1,
   "metadata": {},
   "outputs": [],
   "source": [
    "import pandas as pd"
   ]
  },
  {
   "cell_type": "code",
   "execution_count": 2,
   "metadata": {},
   "outputs": [],
   "source": [
    "# input data\n",
    "train = pd.read_csv(\"data/train.csv\")"
   ]
  },
  {
   "cell_type": "code",
   "execution_count": 3,
   "metadata": {},
   "outputs": [],
   "source": [
    "total_passengers = len(train.Survived)\n",
    "total_survived = sum(train.Survived)\n",
    "total_percent = total_survived/total_passengers*100"
   ]
  },
  {
   "cell_type": "code",
   "execution_count": 4,
   "metadata": {
    "scrolled": true
   },
   "outputs": [
    {
     "name": "stdout",
     "output_type": "stream",
     "text": [
      "Passengers:  100000 \n",
      "Survived:  42774 \n",
      "Percent:  42.774 %\n"
     ]
    }
   ],
   "source": [
    "print(\"Passengers: \", total_passengers, \n",
    "      \"\\nSurvived: \", total_survived, \n",
    "      \"\\nPercent: \", total_percent, \"%\")"
   ]
  },
  {
   "cell_type": "markdown",
   "metadata": {},
   "source": [
    "# Explore Ticket"
   ]
  },
  {
   "cell_type": "code",
   "execution_count": 5,
   "metadata": {},
   "outputs": [],
   "source": [
    "query = 'SOTON'\n",
    "sel = []\n",
    "for i, row in train.iterrows():\n",
    "    if query in str(row.Ticket):\n",
    "        sel.append(i)\n",
    "sel_df = train.iloc[sel]"
   ]
  },
  {
   "cell_type": "code",
   "execution_count": 6,
   "metadata": {},
   "outputs": [],
   "source": [
    "sel_passengers = len(sel_df.Survived)\n",
    "sel_survived = sum(sel_df.Survived)\n",
    "sel_percent = sel_survived/sel_passengers*100"
   ]
  },
  {
   "cell_type": "code",
   "execution_count": 7,
   "metadata": {},
   "outputs": [
    {
     "name": "stdout",
     "output_type": "stream",
     "text": [
      "Passengers:  1319 \n",
      "Survived:  302 \n",
      "Percent:  22.896133434420015 %\n"
     ]
    }
   ],
   "source": [
    "print(\"Passengers: \", sel_passengers, \n",
    "      \"\\nSurvived: \", sel_survived, \n",
    "      \"\\nPercent: \", sel_percent, \"%\")"
   ]
  },
  {
   "cell_type": "code",
   "execution_count": 8,
   "metadata": {},
   "outputs": [
    {
     "name": "stdout",
     "output_type": "stream",
     "text": [
      "Ports: \n",
      "C:  168 \n",
      "Q:  52 \n",
      "S:  1093\n"
     ]
    }
   ],
   "source": [
    "print(\"Ports:\",\n",
    "     \"\\nC: \", len(sel_df.loc[sel_df.Embarked == 'C']),\n",
    "     \"\\nQ: \", len(sel_df.loc[sel_df.Embarked == 'Q']),\n",
    "     \"\\nS: \", len(sel_df.loc[sel_df.Embarked == 'S']),\n",
    "     )"
   ]
  }
 ],
 "metadata": {
  "kernelspec": {
   "display_name": "Python 3",
   "language": "python",
   "name": "python3"
  },
  "language_info": {
   "codemirror_mode": {
    "name": "ipython",
    "version": 3
   },
   "file_extension": ".py",
   "mimetype": "text/x-python",
   "name": "python",
   "nbconvert_exporter": "python",
   "pygments_lexer": "ipython3",
   "version": "3.7.9"
  }
 },
 "nbformat": 4,
 "nbformat_minor": 4
}
