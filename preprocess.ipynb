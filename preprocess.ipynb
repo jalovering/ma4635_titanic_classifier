{
 "cells": [
  {
   "cell_type": "code",
   "execution_count": 1,
   "metadata": {},
   "outputs": [],
   "source": [
    "import pandas as pd\n",
    "from sklearn import preprocessing\n",
    "import numpy as np\n",
    "import sys\n",
    "from sklearn.cluster import AffinityPropagation\n",
    "import distance\n",
    "import json"
   ]
  },
  {
   "cell_type": "code",
   "execution_count": 2,
   "metadata": {},
   "outputs": [],
   "source": [
    "r = 4635\n",
    "np.random.seed(r)"
   ]
  },
  {
   "cell_type": "code",
   "execution_count": 3,
   "metadata": {},
   "outputs": [],
   "source": [
    "# input data\n",
    "train = pd.read_csv(\"data/train.csv\")\n",
    "test = pd.read_csv(\"data/test.csv\")"
   ]
  },
  {
   "cell_type": "code",
   "execution_count": 4,
   "metadata": {},
   "outputs": [],
   "source": [
    "# convert sex to dummy variable\n",
    "def sex_to_dummy(df):\n",
    "    # female:0, male:1\n",
    "    le = preprocessing.LabelEncoder()\n",
    "    le.fit(df.Sex)\n",
    "    df.Sex = le.transform(df.Sex)\n",
    "    return df\n",
    "\n",
    "# encode ticket by tag\n",
    "def encode_ticket(df, datasplit):\n",
    "    if datasplit == 'train':\n",
    "        # extract set of recurring tags from ticket values\n",
    "        tags = []\n",
    "        indicies_with_tag = [] # save for efficiency in future step\n",
    "        # extract tag from each non float ticket\n",
    "        for i, row in df.iterrows():\n",
    "            if type(row.Ticket) != float:\n",
    "                split = row.Ticket.split(' ')\n",
    "                if len(split) > 1:\n",
    "                    tags.append(split[0])\n",
    "                    indicies_with_tag.append(i)\n",
    "        tags = list(set(tags))\n",
    "\n",
    "        # cluster tags to reduce dimensionality\n",
    "        tags = np.asarray(tags)\n",
    "        # calculate levenshtein distances between tags\n",
    "        lev_similarity = -1*np.array([[distance.levenshtein(w1,w2) for w1 in tags] for w2 in tags])\n",
    "        affprop = AffinityPropagation(affinity=\"precomputed\", damping=0.5, random_state=r)\n",
    "        affprop.fit(lev_similarity)\n",
    "        cluster_dict = {}\n",
    "        # generate affinity propogation clusters\n",
    "        for cluster_id in np.unique(affprop.labels_):\n",
    "            exemplar = tags[affprop.cluster_centers_indices_[cluster_id]]\n",
    "            cluster = np.unique(tags[np.nonzero(affprop.labels_==cluster_id)])\n",
    "            cluster_str = \", \".join(cluster)\n",
    "            cluster_dict[exemplar] = cluster_str.split(', ')\n",
    "#             print(\" - *%s:* %s\" % (exemplar, cluster_str)) \n",
    "        \n",
    "        # save clusters for use on test data\n",
    "        with open('ticketClusters.json', 'w') as fp:\n",
    "            json.dump(cluster_dict, fp)\n",
    "            \n",
    "    if datasplit == 'test':\n",
    "        # load clusters generated from train data  \n",
    "        with open('ticketClusters.json', 'r') as fp:\n",
    "            cluster_dict = json.load(fp)\n",
    "        # must be run on entire set of test data\n",
    "        indicies_with_tag = range(0,len(df))\n",
    "    \n",
    "    # one hot encode based on clusters\n",
    "    for key in cluster_dict:\n",
    "        df[key] = 0 # initialize cluster columns as 0\n",
    "    for i, row in df.iloc[indicies_with_tag].iterrows():\n",
    "        # for each ticket containing a tag\n",
    "        # fill in applicable one-hot-encoded column with 1\n",
    "        if type(row.Ticket) != float:\n",
    "            split = row.Ticket.split(' ')\n",
    "            if len(split) > 1:\n",
    "                for item in cluster_dict.items():\n",
    "                    if split[0] in item[1]:\n",
    "                        df[item[0]].iloc[i] = 1\n",
    "    df = df.drop(columns=['Ticket'])\n",
    "    return df\n",
    "\n",
    "def encode_embarked(df, datasplit, encoding):\n",
    "    # encode based on chosen method of encoding\n",
    "    if encoding == 'travel_dist':\n",
    "        # this is a rough estimate of the number of miles from Southampton, the first point of embarkation\n",
    "        df['Embarked'] = df['Embarked'].replace(['S','C','Q'],[0,80,480])\n",
    "    elif encoding == 'embark_order':\n",
    "        # this is simply the order in which the ports were traversed, sequentially\n",
    "        df['Embarked'] = df['Embarked'].replace(['S','C','Q'],[0,1,2])\n",
    "    elif encoding == 'one_hot':\n",
    "        # plain old one-hot, if you've given up\n",
    "        df['Embarked_S'] = df['Embarked'].replace(['S','C','Q'],[1,0,0])\n",
    "        df['Embarked_C'] = df['Embarked'].replace(['S','C','Q'],[0,1,0])\n",
    "        df['Embarked_Q'] = df['Embarked'].replace(['S','C','Q'],[0,0,1])\n",
    "        df = df.drop(columns=['Embarked'])\n",
    "    else:\n",
    "        print(\"Error. Incorrect entry for distance parameter. Possible values are:\\ntravel_dist\\nembark_order\\none_hot\")\n",
    "    df = df.fillna(df.median())\n",
    "    return df\n",
    "\n",
    "# run all preprocessing functions\n",
    "def main(df, datasplit):\n",
    "    # count nulls by column before replacing\n",
    "    print(\" \\nTotal missing values by column in the data :\\n\\n\", df.isnull().sum())\n",
    "    # replace nulls in numerical columns with the column mean\n",
    "    df = df.fillna(df.mean())\n",
    "    # convert sex column into dummy variables\n",
    "    df = sex_to_dummy(df)\n",
    "    # encode ticket by tag\n",
    "    df = encode_ticket(df, datasplit)\n",
    "    # encode embarked by travel distance, sequence, or one-hot\n",
    "    # third parameter must be one of: 'travel_dist', 'embark_order', 'one_hot'\n",
    "    df = encode_embarked(df, datasplit, 'embark_order')\n",
    "    return df"
   ]
  },
  {
   "cell_type": "code",
   "execution_count": 5,
   "metadata": {
    "scrolled": true
   },
   "outputs": [
    {
     "name": "stdout",
     "output_type": "stream",
     "text": [
      " \n",
      "Total missing values by column in the data :\n",
      "\n",
      " PassengerId        0\n",
      "Survived           0\n",
      "Pclass             0\n",
      "Name               0\n",
      "Sex                0\n",
      "Age             3292\n",
      "SibSp              0\n",
      "Parch              0\n",
      "Ticket          4623\n",
      "Fare             134\n",
      "Cabin          67866\n",
      "Embarked         250\n",
      "dtype: int64\n"
     ]
    },
    {
     "name": "stderr",
     "output_type": "stream",
     "text": [
      "C:\\Users\\lover\\anaconda3\\lib\\site-packages\\pandas\\core\\indexing.py:1636: SettingWithCopyWarning: \n",
      "A value is trying to be set on a copy of a slice from a DataFrame\n",
      "\n",
      "See the caveats in the documentation: https://pandas.pydata.org/pandas-docs/stable/user_guide/indexing.html#returning-a-view-versus-a-copy\n",
      "  self._setitem_single_block(indexer, value, name)\n"
     ]
    },
    {
     "name": "stdout",
     "output_type": "stream",
     "text": [
      " \n",
      "Total missing values by column in the data :\n",
      "\n",
      " PassengerId        0\n",
      "Pclass             0\n",
      "Name               0\n",
      "Sex                0\n",
      "Age             3487\n",
      "SibSp              0\n",
      "Parch              0\n",
      "Ticket          5181\n",
      "Fare             133\n",
      "Cabin          70831\n",
      "Embarked         277\n",
      "dtype: int64\n"
     ]
    }
   ],
   "source": [
    "# run preprocessing\n",
    "train = main(train, 'train')\n",
    "test = main(test, 'test')"
   ]
  },
  {
   "cell_type": "code",
   "execution_count": 6,
   "metadata": {},
   "outputs": [],
   "source": [
    "# output data\n",
    "train.to_csv(\"data/train_clean.csv\", index=False)\n",
    "test.to_csv(\"data/test_clean.csv\", index=False)"
   ]
  }
 ],
 "metadata": {
  "kernelspec": {
   "display_name": "Python 3",
   "language": "python",
   "name": "python3"
  },
  "language_info": {
   "codemirror_mode": {
    "name": "ipython",
    "version": 3
   },
   "file_extension": ".py",
   "mimetype": "text/x-python",
   "name": "python",
   "nbconvert_exporter": "python",
   "pygments_lexer": "ipython3",
   "version": "3.7.9"
  }
 },
 "nbformat": 4,
 "nbformat_minor": 4
}
